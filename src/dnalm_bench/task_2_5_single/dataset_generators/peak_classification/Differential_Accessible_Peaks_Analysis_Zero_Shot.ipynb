{
 "cells": [
  {
   "cell_type": "code",
   "execution_count": 1,
   "id": "62eadc4c",
   "metadata": {},
   "outputs": [],
   "source": [
    "import pandas as pd\n",
    "import numpy as np\n",
    "import os"
   ]
  },
  {
   "cell_type": "code",
   "execution_count": null,
   "id": "f727b0e2",
   "metadata": {},
   "outputs": [],
   "source": [
    "work_dir = os.environ.get(\"DART_WORK_DIR\", \"\")"
   ]
  },
  {
   "cell_type": "code",
   "execution_count": 2,
   "id": "8cdf654c",
   "metadata": {},
   "outputs": [],
   "source": [
    "HEPG2_peaks = pd.read_csv(\n",
    "    os.path.join(\n",
    "        work_dir, \"task_3_peak_classification/input_data/HEPG2/diff_acc_peaks.csv\"\n",
    "    )\n",
    ")\n",
    "HEPG2_peaks = HEPG2_peaks.rename(columns={\"Unnamed: 0\": \"peak\"}).set_index(\"peak\")\n",
    "HEPG2_peaks = HEPG2_peaks.sort_values(by=\"padj\", ascending=True)\n",
    "HEPG2_peaks[\"significant\"] = [\"Significant\"] * 5000 + [\"Not significant\"] * (\n",
    "    HEPG2_peaks.shape[0] - 5000\n",
    ")"
   ]
  },
  {
   "cell_type": "code",
   "execution_count": 3,
   "id": "350436f4",
   "metadata": {},
   "outputs": [],
   "source": [
    "GM12878_peaks = pd.read_csv(\n",
    "    os.path.join(\n",
    "        work_dir, \"task_3_peak_classification/input_data/GM12878/diff_acc_peaks.csv\"\n",
    "    )\n",
    ")\n",
    "GM12878_peaks = GM12878_peaks.rename(columns={\"Unnamed: 0\": \"peak\"}).set_index(\"peak\")\n",
    "GM12878_peaks = GM12878_peaks.sort_values(by=\"padj\", ascending=True)\n",
    "GM12878_peaks[\"significant\"] = [\"Significant\"] * 5000 + [\"Not significant\"] * (\n",
    "    GM12878_peaks.shape[0] - 5000\n",
    ")"
   ]
  },
  {
   "cell_type": "code",
   "execution_count": 4,
   "id": "679e7ace",
   "metadata": {},
   "outputs": [],
   "source": [
    "K562_peaks = pd.read_csv(\n",
    "    os.path.join(\n",
    "        work_dir, \"task_3_peak_classification/input_data/K562/diff_acc_peaks.csv\"\n",
    "    )\n",
    ")\n",
    "K562_peaks = K562_peaks.rename(columns={\"Unnamed: 0\": \"peak\"}).set_index(\"peak\")\n",
    "K562_peaks = K562_peaks.sort_values(by=\"padj\", ascending=True)\n",
    "K562_peaks[\"significant\"] = [\"Significant\"] * 5000 + [\"Not significant\"] * (\n",
    "    K562_peaks.shape[0] - 5000\n",
    ")"
   ]
  },
  {
   "cell_type": "code",
   "execution_count": 5,
   "id": "9480ba05",
   "metadata": {},
   "outputs": [],
   "source": [
    "H1ESC_peaks = pd.read_csv(\n",
    "    os.path.join(\n",
    "        work_dir, \"task_3_peak_classification/input_data/H1ESC/diff_acc_peaks.csv\"\n",
    "    )\n",
    ")\n",
    "H1ESC_peaks = H1ESC_peaks.rename(columns={\"Unnamed: 0\": \"peak\"}).set_index(\"peak\")\n",
    "H1ESC_peaks = H1ESC_peaks.sort_values(by=\"padj\", ascending=True)\n",
    "H1ESC_peaks[\"significant\"] = [\"Significant\"] * 5000 + [\"Not significant\"] * (\n",
    "    H1ESC_peaks.shape[0] - 5000\n",
    ")"
   ]
  },
  {
   "cell_type": "code",
   "execution_count": 6,
   "id": "1919ac79",
   "metadata": {},
   "outputs": [],
   "source": [
    "IMR90_peaks = pd.read_csv(\n",
    "    os.path.join(\n",
    "        work_dir, \"task_3_peak_classification/input_data/IMR90/diff_acc_peaks.csv\"\n",
    "    )\n",
    ")\n",
    "IMR90_peaks = IMR90_peaks.rename(columns={\"Unnamed: 0\": \"peak\"}).set_index(\"peak\")\n",
    "IMR90_peaks = IMR90_peaks.sort_values(by=\"padj\", ascending=True)\n",
    "IMR90_peaks[\"significant\"] = [\"Significant\"] * 5000 + [\"Not significant\"] * (\n",
    "    IMR90_peaks.shape[0] - 5000\n",
    ")"
   ]
  },
  {
   "cell_type": "code",
   "execution_count": 7,
   "id": "145798df",
   "metadata": {},
   "outputs": [],
   "source": [
    "result = pd.concat(\n",
    "    [HEPG2_peaks, GM12878_peaks, K562_peaks, H1ESC_peaks, IMR90_peaks],\n",
    "    axis=1,\n",
    "    keys=[\"HEPG2\", \"GM12878\", \"K562\", \"H1ESC\", \"IMR90\"],\n",
    ")"
   ]
  },
  {
   "cell_type": "code",
   "execution_count": 8,
   "id": "8c93c821",
   "metadata": {},
   "outputs": [
    {
     "name": "stdout",
     "output_type": "stream",
     "text": [
      "5000\n",
      "5000\n",
      "5000\n",
      "5000\n",
      "5000\n"
     ]
    }
   ],
   "source": [
    "for df in [HEPG2_peaks, GM12878_peaks, K562_peaks, H1ESC_peaks, IMR90_peaks]:\n",
    "    print(df[df[\"significant\"] == \"Significant\"].shape[0])"
   ]
  },
  {
   "cell_type": "code",
   "execution_count": 9,
   "id": "8d92665d",
   "metadata": {},
   "outputs": [],
   "source": [
    "dfs = {\n",
    "    \"HEPG2\": HEPG2_peaks,\n",
    "    \"GM12878\": GM12878_peaks,\n",
    "    \"K562\": K562_peaks,\n",
    "    \"H1ESC\": H1ESC_peaks,\n",
    "    \"IMR90\": IMR90_peaks,\n",
    "}"
   ]
  },
  {
   "cell_type": "code",
   "execution_count": 10,
   "id": "19090968",
   "metadata": {},
   "outputs": [],
   "source": [
    "for key, df in dfs.items():\n",
    "    #     df = df.set_index('ID')\n",
    "    df[\"significant\"] = df[\"significant\"].apply(\n",
    "        lambda x: key if x == \"Significant\" else None\n",
    "    )\n",
    "    dfs[key] = df[[\"significant\"]]  # We only keep the 'significant' column now\n",
    "\n",
    "from functools import reduce\n",
    "\n",
    "combined_df = reduce(\n",
    "    lambda left, right: left.join(right, how=\"outer\", rsuffix=\"_right\"), dfs.values()\n",
    ")\n",
    "combined_df.columns = dfs.keys()  # Rename columns to DataFrame labels\n",
    "\n",
    "combined_df[\"overlapping_dfs\"] = combined_df.apply(\n",
    "    lambda row: list(filter(None, row)), axis=1\n",
    ")\n",
    "\n",
    "combined_df[\"overlap_count\"] = combined_df[\"overlapping_dfs\"].apply(len)"
   ]
  },
  {
   "cell_type": "code",
   "execution_count": 11,
   "id": "a02396fa",
   "metadata": {},
   "outputs": [
    {
     "data": {
      "text/plain": [
       "Counter({frozenset(): 191745,\n",
       "         frozenset({'HEPG2'}): 5000,\n",
       "         frozenset({'GM12878'}): 5000,\n",
       "         frozenset({'IMR90'}): 5000,\n",
       "         frozenset({'K562'}): 5000,\n",
       "         frozenset({'H1ESC'}): 5000})"
      ]
     },
     "execution_count": 11,
     "metadata": {},
     "output_type": "execute_result"
    }
   ],
   "source": [
    "import pandas as pd\n",
    "from upsetplot import UpSet\n",
    "from collections import Counter\n",
    "import matplotlib.pyplot as plt\n",
    "\n",
    "# Convert the list of DataFrames into a Series of frozensets\n",
    "set_series = combined_df[\"overlapping_dfs\"].apply(frozenset)\n",
    "\n",
    "# Count the frozensets\n",
    "set_counts = Counter(set_series)\n",
    "\n",
    "set_counts"
   ]
  },
  {
   "cell_type": "code",
   "execution_count": 13,
   "id": "242fc697",
   "metadata": {},
   "outputs": [],
   "source": [
    "cell_by_peaks = combined_df[combined_df[\"overlap_count\"] > 0][\n",
    "    [\"overlapping_dfs\", \"overlap_count\"]\n",
    "].copy(deep=True)"
   ]
  },
  {
   "cell_type": "code",
   "execution_count": 14,
   "id": "d7ac381e",
   "metadata": {},
   "outputs": [
    {
     "data": {
      "text/plain": [
       "Counter({frozenset(): 191745,\n",
       "         frozenset({'HEPG2'}): 5000,\n",
       "         frozenset({'GM12878'}): 5000,\n",
       "         frozenset({'IMR90'}): 5000,\n",
       "         frozenset({'K562'}): 5000,\n",
       "         frozenset({'H1ESC'}): 5000})"
      ]
     },
     "execution_count": 14,
     "metadata": {},
     "output_type": "execute_result"
    }
   ],
   "source": [
    "set_counts"
   ]
  },
  {
   "cell_type": "code",
   "execution_count": 15,
   "id": "0a945c7e",
   "metadata": {},
   "outputs": [
    {
     "data": {
      "text/plain": [
       "<Figure size 1440x360 with 0 Axes>"
      ]
     },
     "metadata": {},
     "output_type": "display_data"
    },
    {
     "data": {
      "image/png": "[encoded data removed]",
      "text/plain": [
       "<Figure size 320x352 with 4 Axes>"
      ]
     },
     "metadata": {
      "needs_background": "light"
     },
     "output_type": "display_data"
    }
   ],
   "source": [
    "datasets = [\"HEPG2\", \"GM12878\", \"K562\", \"H1ESC\", \"IMR90\"]\n",
    "\n",
    "from itertools import product\n",
    "\n",
    "all_combinations = list(product([False, True], repeat=len(datasets)))\n",
    "multi_index = pd.MultiIndex.from_tuples(all_combinations, names=datasets)\n",
    "\n",
    "# Create the Series\n",
    "data_series = pd.Series(index=multi_index, dtype=int).fillna(\n",
    "    0\n",
    ")  # Start with zero counts\n",
    "\n",
    "# Map each frozenset to the appropriate index tuple and accumulate counts\n",
    "for comb, count in set_counts.items():\n",
    "    index_tuple = tuple(d in comb for d in datasets)\n",
    "    data_series[index_tuple] += count  # Increment the count for each combination\n",
    "\n",
    "# Ensure non-zero entries are present\n",
    "# Plot using UpSet\n",
    "plt.figure(figsize=(20, 5))\n",
    "plt.tight_layout()\n",
    "plt.rcParams.update({\"font.size\": 9})\n",
    "upset = UpSet(\n",
    "    data_series[data_series > 0],\n",
    "    subset_size=\"sum\",\n",
    "    show_counts=True,\n",
    "    max_subset_size=\"40%\",\n",
    ")\n",
    "upset.plot()\n",
    "\n",
    "plt.show()"
   ]
  },
  {
   "cell_type": "code",
   "execution_count": 16,
   "id": "eee9bf64",
   "metadata": {},
   "outputs": [
    {
     "name": "stdout",
     "output_type": "stream",
     "text": [
      "HEPG2\n",
      "(5000, 2)\n",
      "(5000, 2)\n",
      "GM12878\n",
      "(5000, 2)\n",
      "(10000, 2)\n",
      "K562\n",
      "(5000, 2)\n",
      "(15000, 2)\n",
      "H1ESC\n",
      "(5000, 2)\n",
      "(20000, 2)\n",
      "IMR90\n",
      "(5000, 2)\n",
      "(25000, 2)\n"
     ]
    }
   ],
   "source": [
    "new_df = pd.DataFrame(columns=[\"Peaks\", \"Cell Type\"])\n",
    "for cell_type in datasets:\n",
    "    print(cell_type)\n",
    "    mask = cell_by_peaks[\"overlapping_dfs\"].apply(lambda x: cell_type in x)\n",
    "    df = cell_by_peaks[mask]\n",
    "    df = df[df[\"overlap_count\"] == 1]\n",
    "    print(df.shape)\n",
    "    df.index.names = [cell_type + \" Peaks\"]\n",
    "    new_df = pd.concat(\n",
    "        [\n",
    "            new_df,\n",
    "            pd.DataFrame(\n",
    "                {\"Peaks\": list(df.index), \"Cell Type\": [cell_type] * len(df.index)}\n",
    "            ),\n",
    "        ]\n",
    "    )\n",
    "    print(new_df.shape)"
   ]
  },
  {
   "cell_type": "code",
   "execution_count": 17,
   "id": "4fb0826a",
   "metadata": {},
   "outputs": [],
   "source": [
    "new_df[[\"Chr\", \"Coords\"]] = new_df[\"Peaks\"].str.split(\":\", expand=True)\n",
    "new_df[[\"Start\", \"End\"]] = new_df[\"Coords\"].str.split(\"-\", expand=True)\n",
    "new_df = new_df[[\"Chr\", \"Start\", \"End\", \"Cell Type\"]]"
   ]
  },
  {
   "cell_type": "code",
   "execution_count": 18,
   "id": "2a39c973",
   "metadata": {},
   "outputs": [],
   "source": [
    "new_df.to_csv(\n",
    "    os.path.join(\n",
    "        work_dir,\n",
    "        f\"task_3_peak_classification/input_data/{cell_type}/top_5000_deseq_peaks.tsv\",\n",
    "    ),\n",
    "    sep=\"\\t\",\n",
    "    index=False,\n",
    ")"
   ]
  }
 ],
 "metadata": {
  "kernelspec": {
   "display_name": "Python 3 (ipykernel)",
   "language": "python",
   "name": "python3"
  },
  "language_info": {
   "codemirror_mode": {
    "name": "ipython",
    "version": 3
   },
   "file_extension": ".py",
   "mimetype": "text/x-python",
   "name": "python",
   "nbconvert_exporter": "python",
   "pygments_lexer": "ipython3",
   "version": "3.9.0"
  }
 },
 "nbformat": 4,
 "nbformat_minor": 5
}
