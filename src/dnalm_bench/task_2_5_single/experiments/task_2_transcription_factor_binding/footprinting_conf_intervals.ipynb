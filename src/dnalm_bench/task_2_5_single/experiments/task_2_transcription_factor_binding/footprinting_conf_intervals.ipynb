{
 "cells": [
  {
   "cell_type": "code",
   "execution_count": 8,
   "metadata": {},
   "outputs": [],
   "source": [
    "import pandas as pd\n",
    "import numpy as np\n",
    "\n",
    "# !pip install statsmodels\n",
    "import statsmodels\n",
    "from statsmodels.stats.proportion import proportion_confint"
   ]
  },
  {
   "cell_type": "code",
   "execution_count": null,
   "metadata": {},
   "outputs": [],
   "source": [
    "root_output_dir = os.environ.get(\"DART_WORK_DIR\", \"\")"
   ]
  },
  {
   "cell_type": "code",
   "execution_count": 4,
   "metadata": {},
   "outputs": [],
   "source": [
    "hyena_table = os.path.join(\n",
    "    root_output_dir,\n",
    "    \"task_2_footprinting/outputs/evals/likelihoods/hyenadna-large-1m-seqlen-hf.tsv\",\n",
    ")\n",
    "hyena_data = pd.read_csv(hyena_table, sep=\"\\t\", index_col=0)\n",
    "\n",
    "gena_table = os.path.join(\n",
    "    root_output_dir,\n",
    "    \"task_2_footprinting/outputs/evals/likelihoods/gena-lm-bert-large-t2t.tsv\",\n",
    ")\n",
    "gena_data = pd.read_csv(gena_table, sep=\"\\t\", index_col=0)\n",
    "\n",
    "dnabert_table = os.path.join(\n",
    "    root_output_dir, \"task_2_footprinting/outputs/evals/likelihoods/DNABERT-2-117M.tsv\"\n",
    ")\n",
    "dnabert_data = pd.read_csv(dnabert_table, sep=\"\\t\", index_col=0)\n",
    "\n",
    "nt_table = os.path.join(\n",
    "    root_output_dir,\n",
    "    \"task_2_footprinting/outputs/evals/likelihoods/nucleotide-transformer-v2-500m-multi-species.tsv\",\n",
    ")\n",
    "nt_data = pd.read_csv(nt_table, sep=\"\\t\", index_col=0)"
   ]
  },
  {
   "cell_type": "code",
   "execution_count": 34,
   "metadata": {},
   "outputs": [],
   "source": [
    "def get_cis(val_list, num_trials=200):\n",
    "    ci_tup_list = []\n",
    "    for val in val_list:\n",
    "        ci = proportion_confint(round(val * num_trials), num_trials, method=\"normal\")\n",
    "        ci_tup_list.append((val, round(ci[0], 3), round(ci[1], 3)))\n",
    "    return ci_tup_list"
   ]
  },
  {
   "cell_type": "code",
   "execution_count": 35,
   "metadata": {
    "scrolled": true
   },
   "outputs": [],
   "source": [
    "ci_agg_list = []\n",
    "for table in [hyena_data, gena_data, dnabert_data, nt_data]:\n",
    "    ci_agg_list.append(get_cis(table[\"Accuracy\"].values))"
   ]
  },
  {
   "cell_type": "code",
   "execution_count": 39,
   "metadata": {},
   "outputs": [],
   "source": [
    "ci_table = pd.DataFrame(\n",
    "    ci_agg_list,\n",
    "    index=[\"HyenaDNA\", \"GENA-LM\", \"DNABERT-2\", \"Nucleotide Transformer\"],\n",
    "    columns=nt_data.index,\n",
    ").T"
   ]
  },
  {
   "cell_type": "code",
   "execution_count": 41,
   "metadata": {},
   "outputs": [],
   "source": [
    "# change from likelihoods to embeddings if necessary\n",
    "out_file = os.path.join(\n",
    "    root_output_dir,\n",
    "    \"task_2_footprinting/outputs/evals/likelihoods/confidence_intervals.tsv\",\n",
    ")\n",
    "\n",
    "ci_table.to_csv(out_file, sep=\"\\t\", index=True, header=True)"
   ]
  }
 ],
 "metadata": {
  "kernelspec": {
   "display_name": "Python 3 (ipykernel)",
   "language": "python",
   "name": "python3"
  },
  "language_info": {
   "codemirror_mode": {
    "name": "ipython",
    "version": 3
   },
   "file_extension": ".py",
   "mimetype": "text/x-python",
   "name": "python",
   "nbconvert_exporter": "python",
   "pygments_lexer": "ipython3",
   "version": "3.7.3"
  }
 },
 "nbformat": 4,
 "nbformat_minor": 5
}
